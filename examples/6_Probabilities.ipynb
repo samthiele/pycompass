{
 "cells": [
  {
   "cell_type": "code",
   "execution_count": 1,
   "metadata": {},
   "outputs": [],
   "source": [
    "import sys, os\n",
    "import matplotlib.pyplot as plt\n",
    "import matplotlib as mpl\n",
    "import numpy as np\n",
    "import scipy.stats\n",
    "import math\n",
    "import mplstereonet\n",
    "\n",
    "#load SNE\n",
    "sys.path.append(\"../../\")\n",
    "from pycompass.IOTools import ccXML\n",
    "from pycompass.SNE import pdf\n",
    "from pycompass.SNE import SNEList\n",
    "%matplotlib inline"
   ]
  },
  {
   "cell_type": "code",
   "execution_count": 2,
   "metadata": {},
   "outputs": [],
   "source": [
    "#setup matplotlib\n",
    "plt.style.use(['default'])\n",
    "mpl.rcParams['font.size'] = 12\n",
    "mpl.rcParams['figure.titleweight'] = 'normal'\n",
    "mpl.rcParams['savefig.dpi'] = 350\n",
    "mpl.rcParams['axes.spines.bottom'] = True\n",
    "mpl.rcParams['axes.spines.bottom'] = True\n",
    "mpl.rcParams['axes.spines.left'] = True\n",
    "mpl.rcParams['axes.spines.right'] = False\n",
    "mpl.rcParams['axes.spines.top'] = False"
   ]
  },
  {
   "cell_type": "markdown",
   "metadata": {},
   "source": [
    "Probabalistic Classification\n",
    "=================\n",
    "\n",
    "Once we have a kde approximating the probability density function of a structures orientation, we can start asking probabilistic questions like \"what is the probability dip > 75\".\n",
    "\n",
    "First, lets define a convenient class for loading and storing SNE data:"
   ]
  },
  {
   "cell_type": "markdown",
   "metadata": {},
   "source": [
    "Synthetic Example\n",
    "==================\n",
    "\n",
    "Generate a fake SNE dataset"
   ]
  },
  {
   "cell_type": "code",
   "execution_count": 3,
   "metadata": {},
   "outputs": [],
   "source": [
    "#generate a fake dataset\n",
    "res = 10000\n",
    "pop1 = np.array([np.random.normal(180,30,res),np.random.normal(30,1,res),np.random.normal(1.5,0.2,res)])\n",
    "pop2 = np.array([np.random.normal(315,10,res),np.random.normal(45,10,res),np.random.normal(2.0,0.2,res)])\n",
    "pop3 = np.array([np.random.normal(45,10,res),np.random.normal(45,10,res),np.random.normal(2.0,0.2,res)])\n",
    "data = np.concatenate([pop1,pop2,pop3],axis=1)"
   ]
  },
  {
   "cell_type": "markdown",
   "metadata": {},
   "source": [
    "Create a SNEList object"
   ]
  },
  {
   "cell_type": "code",
   "execution_count": 4,
   "metadata": {},
   "outputs": [],
   "source": [
    "SNEs = SNEList(np.zeros(res),np.zeros(res),np.zeros(res),data[0],data[1],data[2])"
   ]
  },
  {
   "cell_type": "markdown",
   "metadata": {},
   "source": [
    "Calculate the mean dip-dip direction (vector mean):"
   ]
  },
  {
   "cell_type": "code",
   "execution_count": null,
   "metadata": {},
   "outputs": [
    {
     "name": "stdout",
     "output_type": "stream",
     "text": [
      "mean plane = 71 -> 210 (dip->dipdir)\n"
     ]
    }
   ],
   "source": [
    "#calculate mean strike and dip\n",
    "meanT, meanP = SNEs.getMeanTrendPlunge()\n",
    "meanS = meanT - 90\n",
    "meanD = 90 - meanP\n",
    "\n",
    "while meanD < 0:\n",
    "    meanD += 90\n",
    "while meanS < 0:\n",
    "    meanS += 180\n",
    "while meanS > 180:\n",
    "    meanS -= 180\n",
    "    \n",
    "print(\"mean plane = %02d -> %03d (dip->dipdir)\" % (meanD,meanT))"
   ]
  },
  {
   "cell_type": "markdown",
   "metadata": {},
   "source": [
    "The SNEList class can evaluate and plot KDEs for easy visualisation and analysis:"
   ]
  },
  {
   "cell_type": "code",
   "execution_count": null,
   "metadata": {
    "scrolled": false
   },
   "outputs": [],
   "source": [
    "#1D KDEs\n",
    "fig,ax = SNEs.plotKDE1D(\"thickness\",bw=0.1)\n",
    "ax.axvline( SNEs.getMeanThickness())\n",
    "ax.set_title(\"Thickness KDE\")\n",
    "\n",
    "fig,ax = SNEs.plotKDE1D(\"trend\",bw=0.1)\n",
    "ax.axvline( meanT )\n",
    "ax.set_title(\"Trend KDE\")\n",
    "\n",
    "fig,ax = SNEs.plotKDE1D(\"plunge\",bw=0.1)\n",
    "ax.axvline( meanP )\n",
    "ax.set_title(\"Plunge KDE\")\n",
    "\n",
    "fig,ax = SNEs.plotKDE1D(\"strike\",bw=0.1)\n",
    "ax.axvline( meanS )\n",
    "ax.set_title(\"Strike KDE\")\n",
    "\n",
    "fig,ax = SNEs.plotKDE1D(\"dip\",bw=0.1)\n",
    "ax.axvline( meanD )\n",
    "ax.set_title(\"Dip KDE\")\n",
    "\n",
    "#circular visualisations\n",
    "fig,ax = SNEs.plotRose(fillArgs={\"alpha\":0.5,\"color\":\"b\"})\n",
    "fig.show()\n",
    "fig,ax = SNEs.plotStereonet(cmap=\"coolwarm\")\n",
    "fig.show()"
   ]
  },
  {
   "cell_type": "markdown",
   "metadata": {},
   "source": [
    "The KDEs can also be used to evaluate probabilities. For example, we can find the probability that a randomly selected SNE dips less than 50 degrees:"
   ]
  },
  {
   "cell_type": "code",
   "execution_count": null,
   "metadata": {},
   "outputs": [],
   "source": [
    "print(\"p(dip < 50) = \", SNEs.evalP1D(\"dip\",0,50))"
   ]
  },
  {
   "cell_type": "markdown",
   "metadata": {},
   "source": [
    "Or has a pole that strikes between 045 and 180 (and hence trends between 135 and 270 OR 315 and 090)"
   ]
  },
  {
   "cell_type": "code",
   "execution_count": null,
   "metadata": {},
   "outputs": [],
   "source": [
    "print(\"p(45 < strike < 180) = \",SNEs.evalP1D(\"strike\",45,180))\n",
    "print(\"p(45 < trend < 135 | 315 < trend < 045) = \", SNEs.evalP1D(\"trend\",135,270)+SNEs.evalP1D(\"trend\",315,360)+SNEs.evalP1D(\"trend\",0,90))"
   ]
  }
 ],
 "metadata": {
  "kernelspec": {
   "display_name": "Python 3",
   "language": "python",
   "name": "python3"
  },
  "language_info": {
   "codemirror_mode": {
    "name": "ipython",
    "version": 3
   },
   "file_extension": ".py",
   "mimetype": "text/x-python",
   "name": "python",
   "nbconvert_exporter": "python",
   "pygments_lexer": "ipython3",
   "version": "3.6.4"
  }
 },
 "nbformat": 4,
 "nbformat_minor": 2
}
